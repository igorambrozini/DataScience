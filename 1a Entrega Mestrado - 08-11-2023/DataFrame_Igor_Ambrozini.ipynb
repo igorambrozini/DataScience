{
 "cells": [
  {
   "cell_type": "code",
   "execution_count": null,
   "metadata": {},
   "outputs": [],
   "source": [
    "# Entrega Python - 08-11-2023 - Igor Ambrozini"
   ]
  },
  {
   "cell_type": "code",
   "execution_count": 3,
   "metadata": {},
   "outputs": [
    {
     "ename": "SyntaxError",
     "evalue": "invalid syntax (1646047409.py, line 2)",
     "output_type": "error",
     "traceback": [
      "\u001b[1;36m  Cell \u001b[1;32mIn[3], line 2\u001b[1;36m\u001b[0m\n\u001b[1;33m    pip install pandas\u001b[0m\n\u001b[1;37m        ^\u001b[0m\n\u001b[1;31mSyntaxError\u001b[0m\u001b[1;31m:\u001b[0m invalid syntax\n"
     ]
    }
   ],
   "source": [
    "#Install pandas at VScode"
   ]
  },
  {
   "cell_type": "code",
   "execution_count": 10,
   "metadata": {},
   "outputs": [
    {
     "data": {
      "text/html": [
       "<div>\n",
       "<style scoped>\n",
       "    .dataframe tbody tr th:only-of-type {\n",
       "        vertical-align: middle;\n",
       "    }\n",
       "\n",
       "    .dataframe tbody tr th {\n",
       "        vertical-align: top;\n",
       "    }\n",
       "\n",
       "    .dataframe thead th {\n",
       "        text-align: right;\n",
       "    }\n",
       "</style>\n",
       "<table border=\"1\" class=\"dataframe\">\n",
       "  <thead>\n",
       "    <tr style=\"text-align: right;\">\n",
       "      <th></th>\n",
       "      <th>Data</th>\n",
       "      <th>Produto</th>\n",
       "      <th>Categoria</th>\n",
       "      <th>Preço</th>\n",
       "      <th>Quantidade</th>\n",
       "      <th>Stock</th>\n",
       "      <th>Canal de Vendas</th>\n",
       "    </tr>\n",
       "  </thead>\n",
       "  <tbody>\n",
       "    <tr>\n",
       "      <th>0</th>\n",
       "      <td>2023-01-01</td>\n",
       "      <td>Produto C-E</td>\n",
       "      <td>Eletrónicos</td>\n",
       "      <td>24.51</td>\n",
       "      <td>6</td>\n",
       "      <td>17</td>\n",
       "      <td>Offline</td>\n",
       "    </tr>\n",
       "    <tr>\n",
       "      <th>1</th>\n",
       "      <td>2023-01-02</td>\n",
       "      <td>Produto A-A</td>\n",
       "      <td>Alimentos</td>\n",
       "      <td>26.89</td>\n",
       "      <td>5</td>\n",
       "      <td>31</td>\n",
       "      <td>Offline</td>\n",
       "    </tr>\n",
       "    <tr>\n",
       "      <th>2</th>\n",
       "      <td>2023-01-03</td>\n",
       "      <td>Produto A-R</td>\n",
       "      <td>Roupas</td>\n",
       "      <td>19.50</td>\n",
       "      <td>9</td>\n",
       "      <td>46</td>\n",
       "      <td>Online</td>\n",
       "    </tr>\n",
       "    <tr>\n",
       "      <th>3</th>\n",
       "      <td>2023-01-04</td>\n",
       "      <td>Produto E-R</td>\n",
       "      <td>Roupas</td>\n",
       "      <td>12.41</td>\n",
       "      <td>2</td>\n",
       "      <td>14</td>\n",
       "      <td>Offline</td>\n",
       "    </tr>\n",
       "    <tr>\n",
       "      <th>4</th>\n",
       "      <td>2023-01-05</td>\n",
       "      <td>Produto D-E</td>\n",
       "      <td>Eletrónicos</td>\n",
       "      <td>61.56</td>\n",
       "      <td>10</td>\n",
       "      <td>0</td>\n",
       "      <td>Offline</td>\n",
       "    </tr>\n",
       "    <tr>\n",
       "      <th>...</th>\n",
       "      <td>...</td>\n",
       "      <td>...</td>\n",
       "      <td>...</td>\n",
       "      <td>...</td>\n",
       "      <td>...</td>\n",
       "      <td>...</td>\n",
       "      <td>...</td>\n",
       "    </tr>\n",
       "    <tr>\n",
       "      <th>360</th>\n",
       "      <td>2023-12-27</td>\n",
       "      <td>Produto E-A</td>\n",
       "      <td>Alimentos</td>\n",
       "      <td>98.09</td>\n",
       "      <td>1</td>\n",
       "      <td>17</td>\n",
       "      <td>Offline</td>\n",
       "    </tr>\n",
       "    <tr>\n",
       "      <th>361</th>\n",
       "      <td>2023-12-28</td>\n",
       "      <td>Produto A-A</td>\n",
       "      <td>Alimentos</td>\n",
       "      <td>94.02</td>\n",
       "      <td>2</td>\n",
       "      <td>27</td>\n",
       "      <td>Online</td>\n",
       "    </tr>\n",
       "    <tr>\n",
       "      <th>362</th>\n",
       "      <td>2023-12-29</td>\n",
       "      <td>Produto C-A</td>\n",
       "      <td>Alimentos</td>\n",
       "      <td>39.21</td>\n",
       "      <td>4</td>\n",
       "      <td>45</td>\n",
       "      <td>Online</td>\n",
       "    </tr>\n",
       "    <tr>\n",
       "      <th>363</th>\n",
       "      <td>2023-12-30</td>\n",
       "      <td>Produto D-R</td>\n",
       "      <td>Roupas</td>\n",
       "      <td>97.62</td>\n",
       "      <td>4</td>\n",
       "      <td>45</td>\n",
       "      <td>Online</td>\n",
       "    </tr>\n",
       "    <tr>\n",
       "      <th>364</th>\n",
       "      <td>2023-12-31</td>\n",
       "      <td>Produto A-R</td>\n",
       "      <td>Roupas</td>\n",
       "      <td>79.51</td>\n",
       "      <td>3</td>\n",
       "      <td>38</td>\n",
       "      <td>Online</td>\n",
       "    </tr>\n",
       "  </tbody>\n",
       "</table>\n",
       "<p>365 rows × 7 columns</p>\n",
       "</div>"
      ],
      "text/plain": [
       "           Data      Produto    Categoria  Preço  Quantidade  Stock  \\\n",
       "0    2023-01-01  Produto C-E  Eletrónicos  24.51           6     17   \n",
       "1    2023-01-02  Produto A-A    Alimentos  26.89           5     31   \n",
       "2    2023-01-03  Produto A-R       Roupas  19.50           9     46   \n",
       "3    2023-01-04  Produto E-R       Roupas  12.41           2     14   \n",
       "4    2023-01-05  Produto D-E  Eletrónicos  61.56          10      0   \n",
       "..          ...          ...          ...    ...         ...    ...   \n",
       "360  2023-12-27  Produto E-A    Alimentos  98.09           1     17   \n",
       "361  2023-12-28  Produto A-A    Alimentos  94.02           2     27   \n",
       "362  2023-12-29  Produto C-A    Alimentos  39.21           4     45   \n",
       "363  2023-12-30  Produto D-R       Roupas  97.62           4     45   \n",
       "364  2023-12-31  Produto A-R       Roupas  79.51           3     38   \n",
       "\n",
       "    Canal de Vendas  \n",
       "0           Offline  \n",
       "1           Offline  \n",
       "2            Online  \n",
       "3           Offline  \n",
       "4           Offline  \n",
       "..              ...  \n",
       "360         Offline  \n",
       "361          Online  \n",
       "362          Online  \n",
       "363          Online  \n",
       "364          Online  \n",
       "\n",
       "[365 rows x 7 columns]"
      ]
     },
     "execution_count": 10,
     "metadata": {},
     "output_type": "execute_result"
    }
   ],
   "source": [
    "# 1. Função que exibe características do DataFrame (10 pts):\n",
    "\n",
    "import pandas as pd\n",
    "\n",
    "df = pd.read_csv('sales_data.csv')\n",
    "\n",
    "df"
   ]
  },
  {
   "cell_type": "code",
   "execution_count": 19,
   "metadata": {},
   "outputs": [
    {
     "name": "stdout",
     "output_type": "stream",
     "text": [
      "Número de linhas = 365\n"
     ]
    }
   ],
   "source": [
    "# número de linhas:\n",
    "print('Número de linhas =', len(df.index))"
   ]
  },
  {
   "cell_type": "code",
   "execution_count": 21,
   "metadata": {},
   "outputs": [
    {
     "name": "stdout",
     "output_type": "stream",
     "text": [
      "Número de colunas = 7\n"
     ]
    }
   ],
   "source": [
    "# número de colunas:\n",
    "print('Número de colunas =', len(df.columns))"
   ]
  },
  {
   "cell_type": "code",
   "execution_count": 23,
   "metadata": {},
   "outputs": [
    {
     "data": {
      "text/plain": [
       "Index(['Data', 'Produto', 'Categoria', 'Preço', 'Quantidade', 'Stock',\n",
       "       'Canal de Vendas'],\n",
       "      dtype='object')"
      ]
     },
     "execution_count": 23,
     "metadata": {},
     "output_type": "execute_result"
    }
   ],
   "source": []
  }
 ],
 "metadata": {
  "kernelspec": {
   "display_name": "Python 3",
   "language": "python",
   "name": "python3"
  },
  "language_info": {
   "codemirror_mode": {
    "name": "ipython",
    "version": 3
   },
   "file_extension": ".py",
   "mimetype": "text/x-python",
   "name": "python",
   "nbconvert_exporter": "python",
   "pygments_lexer": "ipython3",
   "version": "3.11.4"
  }
 },
 "nbformat": 4,
 "nbformat_minor": 2
}
