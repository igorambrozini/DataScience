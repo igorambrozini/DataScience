{
 "cells": [
  {
   "cell_type": "code",
   "execution_count": 1,
   "metadata": {},
   "outputs": [],
   "source": [
    "# 1a Entrega Python - 08-11-2023 - Igor Ambrozini"
   ]
  },
  {
   "cell_type": "code",
   "execution_count": 2,
   "metadata": {},
   "outputs": [
    {
     "name": "stdout",
     "output_type": "stream",
     "text": [
      "Informações gerais sobre o DataFrame sales_data.csv: \n",
      "\n",
      "Número de linhas: 365 \n",
      "\n",
      "Número de colunas: 7 \n",
      "\n",
      "Tipos de dados:\n",
      " Data                object\n",
      "Produto             object\n",
      "Categoria           object\n",
      "Preço              float64\n",
      "Quantidade           int64\n",
      "Stock                int64\n",
      "Canal de Vendas     object\n",
      "dtype: object \n",
      "\n",
      "Nome das colunas:\n",
      " ['Data', 'Produto', 'Categoria', 'Preço', 'Quantidade', 'Stock', 'Canal de Vendas'] \n",
      "\n",
      "Nome das linhas: \n",
      " [  0   1   2   3   4   5   6   7   8   9  10  11  12  13  14  15  16  17\n",
      "  18  19  20  21  22  23  24  25  26  27  28  29  30  31  32  33  34  35\n",
      "  36  37  38  39  40  41  42  43  44  45  46  47  48  49  50  51  52  53\n",
      "  54  55  56  57  58  59  60  61  62  63  64  65  66  67  68  69  70  71\n",
      "  72  73  74  75  76  77  78  79  80  81  82  83  84  85  86  87  88  89\n",
      "  90  91  92  93  94  95  96  97  98  99 100 101 102 103 104 105 106 107\n",
      " 108 109 110 111 112 113 114 115 116 117 118 119 120 121 122 123 124 125\n",
      " 126 127 128 129 130 131 132 133 134 135 136 137 138 139 140 141 142 143\n",
      " 144 145 146 147 148 149 150 151 152 153 154 155 156 157 158 159 160 161\n",
      " 162 163 164 165 166 167 168 169 170 171 172 173 174 175 176 177 178 179\n",
      " 180 181 182 183 184 185 186 187 188 189 190 191 192 193 194 195 196 197\n",
      " 198 199 200 201 202 203 204 205 206 207 208 209 210 211 212 213 214 215\n",
      " 216 217 218 219 220 221 222 223 224 225 226 227 228 229 230 231 232 233\n",
      " 234 235 236 237 238 239 240 241 242 243 244 245 246 247 248 249 250 251\n",
      " 252 253 254 255 256 257 258 259 260 261 262 263 264 265 266 267 268 269\n",
      " 270 271 272 273 274 275 276 277 278 279 280 281 282 283 284 285 286 287\n",
      " 288 289 290 291 292 293 294 295 296 297 298 299 300 301 302 303 304 305\n",
      " 306 307 308 309 310 311 312 313 314 315 316 317 318 319 320 321 322 323\n",
      " 324 325 326 327 328 329 330 331 332 333 334 335 336 337 338 339 340 341\n",
      " 342 343 344 345 346 347 348 349 350 351 352 353 354 355 356 357 358 359\n",
      " 360 361 362 363 364] \n",
      "\n",
      "10 primeiras linhas do DataFrame:\n",
      "          Data      Produto    Categoria  Preço  Quantidade  Stock  \\\n",
      "0  2023-01-01  Produto C-E  Eletrónicos  24.51           6     17   \n",
      "1  2023-01-02  Produto A-A    Alimentos  26.89           5     31   \n",
      "2  2023-01-03  Produto A-R       Roupas  19.50           9     46   \n",
      "3  2023-01-04  Produto E-R       Roupas  12.41           2     14   \n",
      "4  2023-01-05  Produto D-E  Eletrónicos  61.56          10      0   \n",
      "5  2023-01-06  Produto B-R       Roupas  75.28           4     26   \n",
      "6  2023-01-07  Produto D-R       Roupas  81.62           6     10   \n",
      "7  2023-01-08  Produto E-R       Roupas  80.05           6     29   \n",
      "8  2023-01-09  Produto D-E  Eletrónicos  91.04           9     43   \n",
      "9  2023-01-10  Produto F-A    Alimentos  61.43           1     31   \n",
      "\n",
      "  Canal de Vendas  \n",
      "0         Offline  \n",
      "1         Offline  \n",
      "2          Online  \n",
      "3         Offline  \n",
      "4         Offline  \n",
      "5         Offline  \n",
      "6          Online  \n",
      "7          Online  \n",
      "8         Offline  \n",
      "9          Online   \n",
      "\n",
      "10 últimas linhas do DataFrame:\n",
      "            Data      Produto    Categoria  Preço  Quantidade  Stock  \\\n",
      "355  2023-12-22  Produto C-R       Roupas  58.56           5      2   \n",
      "356  2023-12-23  Produto D-E  Eletrónicos  22.09           3      3   \n",
      "357  2023-12-24  Produto B-E  Eletrónicos  23.14           6     12   \n",
      "358  2023-12-25  Produto F-R       Roupas  57.54          10      8   \n",
      "359  2023-12-26  Produto B-R       Roupas  14.47           7      3   \n",
      "360  2023-12-27  Produto E-A    Alimentos  98.09           1     17   \n",
      "361  2023-12-28  Produto A-A    Alimentos  94.02           2     27   \n",
      "362  2023-12-29  Produto C-A    Alimentos  39.21           4     45   \n",
      "363  2023-12-30  Produto D-R       Roupas  97.62           4     45   \n",
      "364  2023-12-31  Produto A-R       Roupas  79.51           3     38   \n",
      "\n",
      "    Canal de Vendas  \n",
      "355          Online  \n",
      "356          Online  \n",
      "357          Online  \n",
      "358          Online  \n",
      "359          Online  \n",
      "360         Offline  \n",
      "361          Online  \n",
      "362          Online  \n",
      "363          Online  \n",
      "364          Online  \n"
     ]
    }
   ],
   "source": [
    "\n",
    "# 1. Função que exibe características do DataFrame (10 pts):\n",
    "#Crie uma função que carregue o arquivo \"sales_data.csv\" para um DataFrame e exiba informações gerais sobre o DataFrame, como:\n",
    "\n",
    "import pandas as pd\n",
    "import numpy as np\n",
    "\n",
    "def Print_df_char():\n",
    "    # Descrição da Função:\n",
    "    print(\"Informações gerais sobre o DataFrame sales_data.csv: \\n\")\n",
    "\n",
    "    #  Importando dados para criar o DataFrame:\n",
    "    df = pd.read_csv('sales_data.csv')\n",
    "\n",
    "    # Exibir número de linhas:\n",
    "    print('Número de linhas:',len(df.index),'\\n')\n",
    "\n",
    "    # Exibir número de colunas:\n",
    "    print('Número de colunas:',len(df.columns),'\\n')\n",
    "\n",
    "    ## Exibir o  tipo de dados:\n",
    "    tipos_dados = df.dtypes\n",
    "    print('Tipos de dados:\\n', tipos_dados,'\\n')\n",
    "\n",
    "    # Exibir o nome das colunas e linhas:\n",
    "    lista_colunas = list(df.columns)\n",
    "    print('Nome das colunas:\\n', lista_colunas, '\\n')\n",
    "\n",
    "    lista_linhas = np.array(df.index)\n",
    "    print('Nome das linhas: \\n', lista_linhas, '\\n')\n",
    "\n",
    "    # Exibir as primeiras e últimas 10 linhas do DataFrame:\n",
    "    print('10 primeiras linhas do DataFrame:\\n',df.head(10),'\\n')\n",
    "\n",
    "    #10 últimas:\n",
    "    print('10 últimas linhas do DataFrame:\\n', df.tail(10))\n",
    "\n",
    "    return df\n",
    "\n",
    "df = Print_df_char();"
   ]
  },
  {
   "cell_type": "code",
   "execution_count": 3,
   "metadata": {},
   "outputs": [
    {
     "name": "stdout",
     "output_type": "stream",
     "text": [
      "Vendas acumuladas por mês: \n",
      "\n"
     ]
    },
    {
     "data": {
      "text/plain": [
       "Month\n",
       "1     1858.73\n",
       "2     1606.98\n",
       "3     1784.13\n",
       "4     1523.08\n",
       "5     1778.69\n",
       "6     1610.96\n",
       "7     1794.51\n",
       "8     1751.04\n",
       "9     1564.34\n",
       "10    1830.22\n",
       "11    1653.79\n",
       "12    1591.73\n",
       "Name: Preço, dtype: float64"
      ]
     },
     "metadata": {},
     "output_type": "display_data"
    }
   ],
   "source": [
    "# 2. Vendas mensais totais (10 pts):\n",
    "#Calcule e exiba as vendas totais para cada mês presente no DataFrame.\n",
    "\n",
    "#Criar nova coluna Month no DataFrame:\n",
    "df['Month'] = pd.DatetimeIndex(df['Data']).month\n",
    "\n",
    "#Agrupar por período (mês):\n",
    "new_df = df.groupby(['Month']).sum()\n",
    "\n",
    "#Imprimir vendas por mês:\n",
    "print('Vendas acumuladas por mês: \\n')\n",
    "display(new_df['Preço'])\n",
    "\n",
    "#alternativa: df2 = pd.DataFrame(new_df['Preço']); display(df2);"
   ]
  },
  {
   "cell_type": "code",
   "execution_count": 26,
   "metadata": {},
   "outputs": [
    {
     "name": "stdout",
     "output_type": "stream",
     "text": [
      "Top 6 produtos mais vendidos:\n"
     ]
    },
    {
     "data": {
      "text/plain": [
       "Produto\n",
       "Produto E-A    157\n",
       "Produto D-E    156\n",
       "Produto D-A    139\n",
       "Produto E-R    139\n",
       "Produto B-R    135\n",
       "Produto D-R    135\n",
       "Name: Quantidade, dtype: int64"
      ]
     },
     "metadata": {},
     "output_type": "display_data"
    }
   ],
   "source": [
    "# Produtos mais vendidos (10 pts):\n",
    "#Identifique os produtos mais vendidos e exiba seus nomes e quantidades vendidas.\n",
    "\n",
    "#Definir tamanho do TOP:\n",
    "top = int(input('Informe quantidade de itens mais vendidos desejada (TOP):'))\n",
    "\n",
    "#Agrupar DF por produto e ordenar por quantidade:\n",
    "df3 = df.groupby(['Produto']).sum()\n",
    "\n",
    "#Ordernar por quantidade e Imprimir seus nomes e quantidades vendidas:\n",
    "print('Top',top,'produtos mais vendidos:')\n",
    "display(df3['Quantidade'].sort_values(ascending=False).head(top))\n"
   ]
  }
 ],
 "metadata": {
  "kernelspec": {
   "display_name": "Python 3",
   "language": "python",
   "name": "python3"
  },
  "language_info": {
   "codemirror_mode": {
    "name": "ipython",
    "version": 3
   },
   "file_extension": ".py",
   "mimetype": "text/x-python",
   "name": "python",
   "nbconvert_exporter": "python",
   "pygments_lexer": "ipython3",
   "version": "3.11.4"
  }
 },
 "nbformat": 4,
 "nbformat_minor": 2
}
