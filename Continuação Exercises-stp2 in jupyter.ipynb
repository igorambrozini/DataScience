{
 "cells": [
  {
   "cell_type": "code",
   "execution_count": 30,
   "metadata": {},
   "outputs": [
    {
     "data": {
      "text/plain": [
       "{'nome': 'Alice',\n",
       " 'idade': 26,\n",
       " 'cursos': ['Matemática', 'Física', 'Química', 'História'],\n",
       " 'notas': {'Matemática': 90, 'Física': 85, 'Qúimica': 88},\n",
       " 'endereço': 'Rua Principal, 123'}"
      ]
     },
     "execution_count": 30,
     "metadata": {},
     "output_type": "execute_result"
    }
   ],
   "source": [
    "# 29 - Dado o seguinte dicionário:\n",
    "'''\n",
    "estudante = {\n",
    "    'nome': 'Alice',\n",
    "    'idade': 25,\n",
    "    'cursos': ['Matemática', 'Física', 'Química'],\n",
    "    'notas': {'Matemática': 90, 'Física': 85, 'Química': 88}\n",
    "}\n",
    "\n",
    "Faça o seguinte:\n",
    "- Adicione um novo par de chave-valor ao dicionário. A chave deve ser 'endereço' e o valor deve ser 'Rua Principal, 123'.\n",
    "- Acrescente 'História' à lista de cursos.\n",
    "- Aumente a idade da Alice em 1 ano.\n",
    "- Altere a nota dela em Física para 90.\n",
    "- Remova a chave 'notas' do dicionário.\n",
    "'''\n",
    "\n",
    "estudante = {\n",
    "    'nome': 'Alice',\n",
    "    'idade': 25,\n",
    "    'cursos': ['Matemática','Física','Química'],\n",
    "    'notas': {'Matemática': 90, 'Física':85, 'Qúimica':88}\n",
    "}\n",
    "#1)- Adicione um novo par de chave-valor ao dicionário. A chave deve ser 'endereço' e o valor deve ser 'Rua Principal, 123'.\n",
    "estudante.update({'endereço':'Rua Principal, 123'})\n",
    "estudante\n",
    "\n",
    "#2)- Acrescente 'História' à lista de cursos.\n",
    "\n",
    "estudante['cursos'].append('História')\n",
    "\n",
    "\n",
    "\n"
   ]
  },
  {
   "cell_type": "code",
   "execution_count": 40,
   "metadata": {},
   "outputs": [
    {
     "data": {
      "text/plain": [
       "{'nome': 'Alice',\n",
       " 'idade': 26,\n",
       " 'cursos': ['Matemática', 'Física', 'Química', 'História'],\n",
       " 'notas': {'Matemática': 90, 'Física': 85, 'Qúimica': 88},\n",
       " 'endereço': 'Rua Principal, 123'}"
      ]
     },
     "execution_count": 40,
     "metadata": {},
     "output_type": "execute_result"
    }
   ],
   "source": [
    "#- Aumente a idade da Alice em 1 ano.\n",
    "estudante['idade']+=1\n",
    "estudante"
   ]
  },
  {
   "cell_type": "code",
   "execution_count": null,
   "metadata": {},
   "outputs": [],
   "source": []
  },
  {
   "cell_type": "code",
   "execution_count": null,
   "metadata": {},
   "outputs": [],
   "source": []
  }
 ],
 "metadata": {
  "kernelspec": {
   "display_name": "Python 3",
   "language": "python",
   "name": "python3"
  },
  "language_info": {
   "codemirror_mode": {
    "name": "ipython",
    "version": 3
   },
   "file_extension": ".py",
   "mimetype": "text/x-python",
   "name": "python",
   "nbconvert_exporter": "python",
   "pygments_lexer": "ipython3",
   "version": "3.11.4"
  }
 },
 "nbformat": 4,
 "nbformat_minor": 2
}
